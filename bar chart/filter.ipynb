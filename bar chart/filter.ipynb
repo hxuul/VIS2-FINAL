{
 "cells": [
  {
   "cell_type": "code",
   "execution_count": 1,
   "metadata": {},
   "outputs": [
    {
     "name": "stderr",
     "output_type": "stream",
     "text": [
      "C:\\Users\\Admin\\AppData\\Roaming\\Python\\Python311\\site-packages\\pandas\\core\\arrays\\masked.py:60: UserWarning: Pandas requires version '1.3.6' or newer of 'bottleneck' (version '1.3.5' currently installed).\n",
      "  from pandas.core import (\n"
     ]
    },
    {
     "data": {
      "text/html": [
       "<div>\n",
       "<style scoped>\n",
       "    .dataframe tbody tr th:only-of-type {\n",
       "        vertical-align: middle;\n",
       "    }\n",
       "\n",
       "    .dataframe tbody tr th {\n",
       "        vertical-align: top;\n",
       "    }\n",
       "\n",
       "    .dataframe thead th {\n",
       "        text-align: right;\n",
       "    }\n",
       "</style>\n",
       "<table border=\"1\" class=\"dataframe\">\n",
       "  <thead>\n",
       "    <tr style=\"text-align: right;\">\n",
       "      <th></th>\n",
       "      <th>Payment type</th>\n",
       "      <th>Under 1 year</th>\n",
       "      <th>1-&lt;2 years</th>\n",
       "      <th>2-&lt;5 years</th>\n",
       "      <th>5-&lt;10 years</th>\n",
       "      <th>10 years+</th>\n",
       "      <th>Average duration on payment (weeks)</th>\n",
       "    </tr>\n",
       "  </thead>\n",
       "  <tbody>\n",
       "    <tr>\n",
       "      <th>0</th>\n",
       "      <td>ABSTUDY (Living Allowance)</td>\n",
       "      <td>3740</td>\n",
       "      <td>2110</td>\n",
       "      <td>1460</td>\n",
       "      <td>175</td>\n",
       "      <td>5</td>\n",
       "      <td>66</td>\n",
       "    </tr>\n",
       "    <tr>\n",
       "      <th>1</th>\n",
       "      <td>ABSTUDY (Non-Living Allowance)</td>\n",
       "      <td>6750</td>\n",
       "      <td>5805</td>\n",
       "      <td>6505</td>\n",
       "      <td>145</td>\n",
       "      <td>5</td>\n",
       "      <td>77</td>\n",
       "    </tr>\n",
       "    <tr>\n",
       "      <th>2</th>\n",
       "      <td>Age Pension</td>\n",
       "      <td>106670</td>\n",
       "      <td>177635</td>\n",
       "      <td>361405</td>\n",
       "      <td>627500</td>\n",
       "      <td>1309780</td>\n",
       "      <td>609</td>\n",
       "    </tr>\n",
       "  </tbody>\n",
       "</table>\n",
       "</div>"
      ],
      "text/plain": [
       "                     Payment type  Under 1 year  1-<2 years  2-<5 years  \\\n",
       "0      ABSTUDY (Living Allowance)          3740        2110        1460   \n",
       "1  ABSTUDY (Non-Living Allowance)          6750        5805        6505   \n",
       "2                     Age Pension        106670      177635      361405   \n",
       "\n",
       "   5-<10 years  10 years+  Average duration on payment (weeks)  \n",
       "0          175          5                                   66  \n",
       "1          145          5                                   77  \n",
       "2       627500    1309780                                  609  "
      ]
     },
     "execution_count": 1,
     "metadata": {},
     "output_type": "execute_result"
    }
   ],
   "source": [
    "import pandas as pd\n",
    "\n",
    "# Read the CSV file\n",
    "df = pd.read_csv('payment_duration.csv')\n",
    "df.head(3)\n"
   ]
  },
  {
   "cell_type": "code",
   "execution_count": 2,
   "metadata": {},
   "outputs": [],
   "source": [
    "\n",
    "\n",
    "# Dictionary to map the original payment type names to the new ones\n",
    "payment_type_mapping = {\n",
    "    \"ABSTUDY (Living Allowance)\": \"ABSTUDY 1\",\n",
    "    \"ABSTUDY (Non-Living Allowance)\": \"ABSTUDY 2\",\n",
    "    \"Age Pension\": \"Age Pension\",\n",
    "    \"Austudy\": \"Austudy\",\n",
    "    \"Carer Payment\": \"Carer Payment\",\n",
    "    \"Disability Support Pension\": \"Disability Pension\",\n",
    "    \"JobSeeker Payment\": \"JobSeeker Payment\",\n",
    "    \"Parenting Payment Partnered\": \"Parenting Pay 1\",\n",
    "    \"Parenting Payment Single\": \"Parenting Pay 2\",\n",
    "    \"Special Benefit\": \"Special Benefit\",\n",
    "    \"Youth Allowance (other)\": \"Youth Allowance 1\",\n",
    "    \"Youth Allowance (student and apprentice)\": \"Youth Allowance 2\"\n",
    "}\n",
    "\n",
    "# Replace the values in the \"Payment type\" column\n",
    "df['Payment type'] = df['Payment type'].replace(payment_type_mapping)\n",
    "\n",
    "# Save the updated DataFrame to a new CSV file\n",
    "df.to_csv('payment_duration_updated.csv', index=False)"
   ]
  },
  {
   "cell_type": "code",
   "execution_count": null,
   "metadata": {},
   "outputs": [],
   "source": []
  }
 ],
 "metadata": {
  "kernelspec": {
   "display_name": "base",
   "language": "python",
   "name": "python3"
  },
  "language_info": {
   "codemirror_mode": {
    "name": "ipython",
    "version": 3
   },
   "file_extension": ".py",
   "mimetype": "text/x-python",
   "name": "python",
   "nbconvert_exporter": "python",
   "pygments_lexer": "ipython3",
   "version": "3.11.4"
  }
 },
 "nbformat": 4,
 "nbformat_minor": 2
}
