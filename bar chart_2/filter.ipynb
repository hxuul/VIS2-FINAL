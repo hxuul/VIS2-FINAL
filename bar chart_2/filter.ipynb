{
 "cells": [
  {
   "cell_type": "code",
   "execution_count": 6,
   "metadata": {},
   "outputs": [
    {
     "data": {
      "text/html": [
       "<div>\n",
       "<style scoped>\n",
       "    .dataframe tbody tr th:only-of-type {\n",
       "        vertical-align: middle;\n",
       "    }\n",
       "\n",
       "    .dataframe tbody tr th {\n",
       "        vertical-align: top;\n",
       "    }\n",
       "\n",
       "    .dataframe thead th {\n",
       "        text-align: right;\n",
       "    }\n",
       "</style>\n",
       "<table border=\"1\" class=\"dataframe\">\n",
       "  <thead>\n",
       "    <tr style=\"text-align: right;\">\n",
       "      <th></th>\n",
       "      <th>Payment type</th>\n",
       "      <th>No earnings</th>\n",
       "      <th>Had earnings</th>\n",
       "      <th>&gt;$0-&lt;$100</th>\n",
       "      <th>$100-&lt;$150</th>\n",
       "      <th>$150-&lt;$250</th>\n",
       "      <th>$250+</th>\n",
       "    </tr>\n",
       "  </thead>\n",
       "  <tbody>\n",
       "    <tr>\n",
       "      <th>0</th>\n",
       "      <td>ABSTUDY (Living Allowance)</td>\n",
       "      <td>5,580</td>\n",
       "      <td>1,905</td>\n",
       "      <td>110</td>\n",
       "      <td>85</td>\n",
       "      <td>145</td>\n",
       "      <td>1,565</td>\n",
       "    </tr>\n",
       "    <tr>\n",
       "      <th>1</th>\n",
       "      <td>Age Pension</td>\n",
       "      <td>2,497,830</td>\n",
       "      <td>85,165</td>\n",
       "      <td>2,955</td>\n",
       "      <td>2,490</td>\n",
       "      <td>6,600</td>\n",
       "      <td>73,120</td>\n",
       "    </tr>\n",
       "    <tr>\n",
       "      <th>2</th>\n",
       "      <td>Austudy</td>\n",
       "      <td>12,155</td>\n",
       "      <td>8,665</td>\n",
       "      <td>195</td>\n",
       "      <td>165</td>\n",
       "      <td>455</td>\n",
       "      <td>7,850</td>\n",
       "    </tr>\n",
       "  </tbody>\n",
       "</table>\n",
       "</div>"
      ],
      "text/plain": [
       "                 Payment type No earnings Had earnings >$0-<$100 $100-<$150  \\\n",
       "0  ABSTUDY (Living Allowance)       5,580        1,905       110         85   \n",
       "1                 Age Pension   2,497,830       85,165     2,955      2,490   \n",
       "2                     Austudy      12,155        8,665       195        165   \n",
       "\n",
       "  $150-<$250   $250+  \n",
       "0        145   1,565  \n",
       "1      6,600  73,120  \n",
       "2        455   7,850  "
      ]
     },
     "execution_count": 6,
     "metadata": {},
     "output_type": "execute_result"
    }
   ],
   "source": [
    "import pandas as pd\n",
    "\n",
    "# Read the CSV file\n",
    "df = pd.read_csv('earnings.csv')\n",
    "df.head(3)\n"
   ]
  },
  {
   "cell_type": "code",
   "execution_count": 7,
   "metadata": {},
   "outputs": [],
   "source": [
    "\n",
    "\n",
    "# Dictionary to map the original payment type names to the new ones\n",
    "payment_type_mapping = {\n",
    "    \"ABSTUDY (Living Allowance)\": \"ABSTUDY 1\",\n",
    "    \"Age Pension\": \"Age Pension\",\n",
    "    \"Austudy\": \"Austudy\",\n",
    "    \"Carer Payment\": \"Carer Payment\",\n",
    "    \"Disability Support Pension\": \"Disability Pension\",\n",
    "    \"JobSeeker Payment\": \"JobSeeker Payment\",\n",
    "    \"Parenting Payment Partnered\": \"Parenting Pay 1\",\n",
    "    \"Parenting Payment Single\": \"Parenting Pay 2\",\n",
    "    \"Special Benefit\": \"Special Benefit\",\n",
    "    \"Youth Allowance (other)\": \"Youth Allowance 1\",\n",
    "    \"Youth Allowance (student and apprentice)\": \"Youth Allowance 2\"\n",
    "}\n",
    "# Replace the values in the \"Payment type\" column\n",
    "df['Payment type'] = df['Payment type'].replace(payment_type_mapping)\n",
    "\n",
    "# Save the updated DataFrame to a new CSV file\n",
    "df.to_csv('earnings_update.csv', index=False)"
   ]
  },
  {
   "cell_type": "code",
   "execution_count": null,
   "metadata": {},
   "outputs": [],
   "source": []
  }
 ],
 "metadata": {
  "kernelspec": {
   "display_name": "base",
   "language": "python",
   "name": "python3"
  },
  "language_info": {
   "codemirror_mode": {
    "name": "ipython",
    "version": 3
   },
   "file_extension": ".py",
   "mimetype": "text/x-python",
   "name": "python",
   "nbconvert_exporter": "python",
   "pygments_lexer": "ipython3",
   "version": "3.11.4"
  }
 },
 "nbformat": 4,
 "nbformat_minor": 2
}
